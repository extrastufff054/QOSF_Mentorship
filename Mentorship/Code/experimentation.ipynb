{
 "cells": [
  {
   "cell_type": "code",
   "execution_count": 15,
   "metadata": {},
   "outputs": [],
   "source": [
    "import pennylane as qml\n",
    "from pennylane import numpy as np"
   ]
  },
  {
   "cell_type": "code",
   "execution_count": 16,
   "metadata": {},
   "outputs": [
    {
     "name": "stdout",
     "output_type": "stream",
     "text": [
      "ASCII representation for \"cab\" is [99, 97, 98]\n",
      "Binary form using 8bits is ['01100011', '01100001', '01100010']\n",
      "\n",
      "Using simplified encoding with 3 bits : ['011', '001', '010']\n"
     ]
    }
   ],
   "source": [
    "# this part of the code take a string and convert it to the binary representation using ASCII\n",
    "\n",
    "word = \"cab\"\n",
    "\n",
    "def string_to_ascii(input_string):\n",
    "    ascii_values = [ord(char) for char in input_string]\n",
    "    return ascii_values\n",
    "\n",
    "def string_to_binary_ascii(input_string):\n",
    "    binary_values = [format(ord(char), '08b') for char in input_string]\n",
    "    return binary_values\n",
    "\n",
    "print(f'ASCII representation for \"{word}\" is {string_to_ascii(word)}')\n",
    "\n",
    "print(f'Binary form using 8bits is {string_to_binary_ascii(word)}')\n",
    "print()\n",
    "\n",
    "\n",
    "# ASCII would require too much precision, than lets make it simple\n",
    "# lets assume a = 1, b = 2 and c = 3 ...\n",
    "\n",
    "encoding = {'a':1,'b':2,'c':3}\n",
    "\n",
    "def string_to_binary(input_string):\n",
    "    binary_values = [format(encoding[char], '03b') for char in input_string]\n",
    "    return binary_values\n",
    "\n",
    "print(f'Using simplified encoding with 3 bits : {string_to_binary(word)}')\n"
   ]
  },
  {
   "cell_type": "code",
   "execution_count": 17,
   "metadata": {},
   "outputs": [
    {
     "name": "stdout",
     "output_type": "stream",
     "text": [
      "['011', '001', '010']\n",
      "011001010\n"
     ]
    }
   ],
   "source": [
    "# Example word with three bits per character\n",
    "word_char = string_to_binary(\"cab\")  # Example word to encode\n",
    "print(word_char)\n",
    "\n",
    "word = ''.join(word_char)\n",
    "print(word)\n"
   ]
  },
  {
   "cell_type": "code",
   "execution_count": 8,
   "metadata": {},
   "outputs": [],
   "source": [
    "# Create the quantum circuit\n",
    "dev = qml.device(\"default.qubit\", wires=len(word))\n",
    "@qml.qnode(dev)\n",
    "def circuit(word):\n",
    "    for i in range(0, len(word), 3):  # Iterate over the word in steps of three bits\n",
    "        bit_sequence = word[i:i+3]\n",
    "        # Convert the three-bit sequence to an integer between 0 and 7\n",
    "        value = int(bit_sequence, 2)\n",
    "        \n",
    "        # Use the integer value to determine which gates to apply\n",
    "        if value == 0:\n",
    "            continue  # No operation for '000'\n",
    "        elif value == 1:\n",
    "            qml.X(i)  # Apply X gate for '001'\n",
    "        elif value == 2:\n",
    "            qml.Y(i)  # Apply Y gate for '010'\n",
    "        elif value == 3:\n",
    "            qml.Z(i)  # Apply Z gate for '011'\n",
    "        elif value == 4:\n",
    "            qml.H(i)  # Apply H gate for '100'\n",
    "        elif value == 5:\n",
    "            qml.S(i)  # Apply S gate for '101'\n",
    "        elif value == 6:\n",
    "            qml.T(i)  # Apply T gate for '110'\n",
    "        elif value == 7:\n",
    "            qml.CZ((i, (i+1)%len(word)))  # Apply CZ gate for '111'\n",
    "    \n",
    "    return [qml.probs(wires=i) for i in range(len(word))]\n"
   ]
  },
  {
   "cell_type": "code",
   "execution_count": 9,
   "metadata": {},
   "outputs": [],
   "source": [
    "# Execute the circuit to get probabilities\n",
    "probabilities = circuit(word)"
   ]
  },
  {
   "cell_type": "code",
   "execution_count": 10,
   "metadata": {},
   "outputs": [],
   "source": [
    "# Decode the probabilities to retrieve the original word\n",
    "retrieved_word = ''\n",
    "for i in range(0, len(word), 3):  # Process every three bits\n",
    "    bit_sequence = word[i:i+3]\n",
    "    # Convert the three-bit sequence back to its original form\n",
    "    retrieved_word += chr(int(bit_sequence, 2) + ord('0'))"
   ]
  },
  {
   "cell_type": "code",
   "execution_count": 11,
   "metadata": {},
   "outputs": [
    {
     "name": "stdout",
     "output_type": "stream",
     "text": [
      "Numeric representation of the retrived word : 312\n",
      "\n"
     ]
    }
   ],
   "source": [
    "print(f'Numeric representation of the retrived word : {retrieved_word}')\n",
    "print()"
   ]
  },
  {
   "cell_type": "code",
   "execution_count": 12,
   "metadata": {},
   "outputs": [
    {
     "data": {
      "text/plain": [
       "'011001010'"
      ]
     },
     "execution_count": 12,
     "metadata": {},
     "output_type": "execute_result"
    }
   ],
   "source": [
    "word"
   ]
  },
  {
   "cell_type": "code",
   "execution_count": 14,
   "metadata": {},
   "outputs": [
    {
     "data": {
      "text/plain": [
       "[tensor([1., 0.], requires_grad=True),\n",
       " tensor([1., 0.], requires_grad=True),\n",
       " tensor([1., 0.], requires_grad=True),\n",
       " tensor([0., 1.], requires_grad=True),\n",
       " tensor([1., 0.], requires_grad=True),\n",
       " tensor([1., 0.], requires_grad=True),\n",
       " tensor([0., 1.], requires_grad=True),\n",
       " tensor([1., 0.], requires_grad=True),\n",
       " tensor([1., 0.], requires_grad=True)]"
      ]
     },
     "execution_count": 14,
     "metadata": {},
     "output_type": "execute_result"
    }
   ],
   "source": [
    "probabilities"
   ]
  }
 ],
 "metadata": {
  "kernelspec": {
   "display_name": "Python 3 (ipykernel)",
   "language": "python",
   "name": "python3"
  },
  "language_info": {
   "codemirror_mode": {
    "name": "ipython",
    "version": 3
   },
   "file_extension": ".py",
   "mimetype": "text/x-python",
   "name": "python",
   "nbconvert_exporter": "python",
   "pygments_lexer": "ipython3",
   "version": "3.12.0"
  }
 },
 "nbformat": 4,
 "nbformat_minor": 2
}
