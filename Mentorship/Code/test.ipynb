{
 "cells": [
  {
   "cell_type": "code",
   "execution_count": 39,
   "metadata": {},
   "outputs": [],
   "source": [
    "import pennylane as qml\n",
    "from pennylane import numpy as np"
   ]
  },
  {
   "cell_type": "markdown",
   "metadata": {},
   "source": [
    "## Issue : \n",
    "\n",
    "1. **Encoding the Word**:\n",
    "   - The word is converted to a binary representation using ASCII values. Each character is represented by 8 bits.\n",
    "   - The total number of bits used is 8 bits per character, which is 24 bits for the word \"cab\".\n",
    "\n",
    "2. **Creating the Quantum Circuit**:\n",
    "   - The binary representation of the word is processed in steps of 3 bits.\n",
    "   - Each step of 3 bits corresponds to a unique gate operation (X, Y, Z, Hadamard, S, T, or CZ).\n",
    "   - The total number of bits used is 3 bits per character, which is 9 bits for the word \"cab\".\n",
    "\n",
    "3. **Executing the Circuit**:\n",
    "   - The quantum circuit is executed to generate probabilities for each qubit.\n",
    "   - The total number of bits used is the same as the number of qubits, which is 9 bits for the word \"cab\".\n",
    "\n",
    "4. **Decoding the Word**:\n",
    "   - The probabilities are processed in steps of 3 bits to determine the most likely outcome for each qubit.\n",
    "   - Each step of 3 bits corresponds to a character in the original word.\n",
    "   - The total number of bits used is 3 bits per character, which is 9 bits for the word \"cab\".\n",
    "\n",
    "5. **Decoding the Word (Function)**:\n",
    "   - The function processes the probabilities in steps of 3 bits to determine the most likely outcome for each qubit.\n",
    "   - Each step of 3 bits corresponds to a character in the original word.\n",
    "   - The total number of bits used is 3 bits per character, which is 9 bits for the word \"cab\".\n",
    "\n",
    "In summary, the number of bits used at each step is:\n",
    "\n",
    "- Encoding: 24 bits\n",
    "- Creating the Quantum Circuit: 9 bits\n",
    "- Executing the Circuit: 9 bits\n",
    "- Decoding the Word: 9 bits\n",
    "- Decoding the Word (Function): 9 bits\n",
    "\n",
    "Issue faced is bit conversion - Let's check\n"
   ]
  },
  {
   "cell_type": "code",
   "execution_count": 57,
   "metadata": {},
   "outputs": [],
   "source": [
    "# Lookup table for 3-bit encoding\n",
    "encoding = {\n",
    "    'a': '001',\n",
    "    'b': '010',\n",
    "    'c': '011',\n",
    "    'd': '100',\n",
    "    'e': '101',\n",
    "    'f': '110',\n",
    "    'g': '111',\n",
    "    'h': '000',\n",
    "    'i': '101',\n",
    "    'j': '110',\n",
    "    'k': '111',\n",
    "    'l': '000',\n",
    "    'm': '001',\n",
    "    'n': '010',\n",
    "    'o': '011',\n",
    "    'p': '100',\n",
    "    'q': '101',\n",
    "    'r': '110',\n",
    "    's': '111',\n",
    "    't': '000',\n",
    "    'u': '001',\n",
    "    'v': '010',\n",
    "    'w': '011',\n",
    "    'x': '100',\n",
    "    'y': '101',\n",
    "    'z': '110'\n",
    "}"
   ]
  },
  {
   "cell_type": "code",
   "execution_count": 58,
   "metadata": {},
   "outputs": [],
   "source": [
    "def encode(input_string) : \n",
    "    output_string = ''\n",
    "    for char in input_string.lower() : \n",
    "        output_string += encoding.get(char, '')\n",
    "\n",
    "    return output_string\n"
   ]
  },
  {
   "cell_type": "markdown",
   "metadata": {},
   "source": [
    "Example word with three bits per character "
   ]
  },
  {
   "cell_type": "code",
   "execution_count": 59,
   "metadata": {},
   "outputs": [],
   "source": [
    "word = \"cab\" # Example word to encode"
   ]
  },
  {
   "cell_type": "markdown",
   "metadata": {},
   "source": [
    "Convert the word into a binary representation\n"
   ]
  },
  {
   "cell_type": "code",
   "execution_count": 60,
   "metadata": {},
   "outputs": [],
   "source": [
    "binary_word = encode(word)"
   ]
  },
  {
   "cell_type": "markdown",
   "metadata": {},
   "source": [
    "Create the quantum circuit"
   ]
  },
  {
   "cell_type": "code",
   "execution_count": 61,
   "metadata": {},
   "outputs": [],
   "source": [
    "dev = qml.device(\"default.qubit\", wires = len(binary_word))\n",
    "\n",
    "@qml.qnode(dev)\n",
    "def circuit(binary_word):\n",
    "    for i in range(0, len(binary_word), 3) : \n",
    "        bit_sequence = binary_word[i:i+3]\n",
    "\n",
    "        # Convert the three-bit sequence to an integer between 0 and 7\n",
    "        value = int(bit_sequence, 2)\n",
    "\n",
    "    # Use the integer valye to determine which gates to apply\n",
    "    if value == 0: \n",
    "        qml.PauliX(i)   # Apply X gate for '000'\n",
    "\n",
    "    elif value == 1:\n",
    "        qml.PauliX(i)   # Apply X gate for '001'\n",
    "\n",
    "    elif value == 2:\n",
    "            qml.PauliY(i)  # Apply Y gate for '010'\n",
    "        \n",
    "    elif value == 3:\n",
    "        qml.PauliZ(i)  # Apply Z gate for '011'\n",
    "        \n",
    "    elif value == 4:\n",
    "        qml.Hadamard(i)  # Apply Hadamard gate for '100'\n",
    "    \n",
    "    elif value == 5:\n",
    "        qml.S(i)  # Apply S gate for '101'\n",
    "    \n",
    "    elif value == 6:\n",
    "        qml.T(i)  # Apply T gate for '110'\n",
    "    \n",
    "    elif value == 7:\n",
    "        qml.CZ((i, (i+1)%len(binary_qord)))     # Apply CZ gate for '111'\n",
    "\n",
    "    return [qml.probs(wires = i) for i in range(len(binary_word))]"
   ]
  },
  {
   "cell_type": "markdown",
   "metadata": {},
   "source": [
    "Execute the circuit to get probabilies\n"
   ]
  },
  {
   "cell_type": "code",
   "execution_count": 62,
   "metadata": {},
   "outputs": [],
   "source": [
    "probabilities = circuit(binary_word)\n"
   ]
  },
  {
   "cell_type": "code",
   "execution_count": 64,
   "metadata": {},
   "outputs": [
    {
     "data": {
      "text/plain": [
       "[tensor([1., 0.], requires_grad=True),\n",
       " tensor([1., 0.], requires_grad=True),\n",
       " tensor([1., 0.], requires_grad=True),\n",
       " tensor([1., 0.], requires_grad=True),\n",
       " tensor([1., 0.], requires_grad=True),\n",
       " tensor([1., 0.], requires_grad=True),\n",
       " tensor([0., 1.], requires_grad=True),\n",
       " tensor([1., 0.], requires_grad=True),\n",
       " tensor([1., 0.], requires_grad=True)]"
      ]
     },
     "execution_count": 64,
     "metadata": {},
     "output_type": "execute_result"
    }
   ],
   "source": [
    "probabilities"
   ]
  },
  {
   "cell_type": "markdown",
   "metadata": {},
   "source": [
    "Decode the probabilities to retrieve the original word "
   ]
  },
  {
   "cell_type": "code",
   "execution_count": 66,
   "metadata": {},
   "outputs": [],
   "source": [
    "retrieved_word = ''\n",
    "\n",
    "for i in range(0, len(binary_word), 3):  # Process every three bits\n",
    "    bit_sequence = binary_word[i:i+3]\n",
    "\n",
    "    # Convert the three-bit sequence back to its original form\n",
    "    qubit_probabilities = [p[1] for p in probabilities[i:i+3]]  # Calculate the probabilities for each qubit\n",
    "\n",
    "    # Determine the most likely outcome for each qubit\n",
    "    for qubit_probability in qubit_probabilities:\n",
    "        if qubit_probability > 0.5:\n",
    "            bit_sequence += '1'\n",
    "        else:\n",
    "            bit_sequence += '0'\n",
    "\n",
    "    retrieved_word += chr(int(bit_sequence, 2))"
   ]
  },
  {
   "cell_type": "code",
   "execution_count": 67,
   "metadata": {},
   "outputs": [
    {
     "name": "stdout",
     "output_type": "stream",
     "text": [
      "Bit Sequence : 010100, Probabilities : [tensor(1., requires_grad=True), tensor(0., requires_grad=True), tensor(0., requires_grad=True)], Determined Bits : 010100\n"
     ]
    }
   ],
   "source": [
    "print(f\"Bit Sequence : {bit_sequence}, Probabilities : {qubit_probabilities}, Determined Bits : {bit_sequence}\")"
   ]
  },
  {
   "cell_type": "markdown",
   "metadata": {},
   "source": [
    "Add a new function to decode the word from the ouput probabilities \n"
   ]
  },
  {
   "cell_type": "code",
   "execution_count": 68,
   "metadata": {},
   "outputs": [],
   "source": [
    "def decode_word(probabilities) : \n",
    "    decoded_word = ''\n",
    "    for i in range(0, len(probabilities), 3):\n",
    "        qubit_probabilities = [p[1] for p in probabilities[i:i+3]]  # Calculate the probabilities for each qubit\n",
    "\n",
    "        bit_sequence = ''\n",
    "\n",
    "        for qubit_probability in qubit_probabilities:\n",
    "            if qubit_probability > 0.5:\n",
    "                bit_sequence += '1'\n",
    "            else:\n",
    "                bit_sequence += '0'\n",
    "\n",
    "        decoded_word += chr(int(bit_sequence, 2))\n",
    "\n",
    "    return decoded_word"
   ]
  },
  {
   "cell_type": "code",
   "execution_count": 69,
   "metadata": {},
   "outputs": [
    {
     "data": {
      "text/plain": [
       "[tensor([1., 0.], requires_grad=True),\n",
       " tensor([1., 0.], requires_grad=True),\n",
       " tensor([1., 0.], requires_grad=True),\n",
       " tensor([1., 0.], requires_grad=True),\n",
       " tensor([1., 0.], requires_grad=True),\n",
       " tensor([1., 0.], requires_grad=True),\n",
       " tensor([0., 1.], requires_grad=True),\n",
       " tensor([1., 0.], requires_grad=True),\n",
       " tensor([1., 0.], requires_grad=True)]"
      ]
     },
     "execution_count": 69,
     "metadata": {},
     "output_type": "execute_result"
    }
   ],
   "source": [
    "probabilities"
   ]
  },
  {
   "cell_type": "markdown",
   "metadata": {},
   "source": [
    "Retrieve the original word from the output probabilities "
   ]
  },
  {
   "cell_type": "code",
   "execution_count": 70,
   "metadata": {},
   "outputs": [],
   "source": [
    "retrieved_word_probabilities = decode_word(probabilities)"
   ]
  },
  {
   "cell_type": "code",
   "execution_count": 71,
   "metadata": {},
   "outputs": [
    {
     "name": "stdout",
     "output_type": "stream",
     "text": [
      "Encoded word : cab\n"
     ]
    }
   ],
   "source": [
    "print(f\"Encoded word : {word}\")"
   ]
  },
  {
   "cell_type": "code",
   "execution_count": 72,
   "metadata": {},
   "outputs": [
    {
     "name": "stdout",
     "output_type": "stream",
     "text": [
      "Retrieved Word : \u0000\u0000\u0004\n"
     ]
    }
   ],
   "source": [
    "print(f\"Retrieved Word : {retrieved_word_probabilities}\")"
   ]
  }
 ],
 "metadata": {
  "kernelspec": {
   "display_name": "Python 3 (ipykernel)",
   "language": "python",
   "name": "python3"
  },
  "language_info": {
   "codemirror_mode": {
    "name": "ipython",
    "version": 3
   },
   "file_extension": ".py",
   "mimetype": "text/x-python",
   "name": "python",
   "nbconvert_exporter": "python",
   "pygments_lexer": "ipython3",
   "version": "3.12.0"
  }
 },
 "nbformat": 4,
 "nbformat_minor": 2
}
