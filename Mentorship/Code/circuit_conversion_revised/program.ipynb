{
 "cells": [
  {
   "cell_type": "markdown",
   "metadata": {},
   "source": [
    "# Quantum Character Encoding and Decoding\n",
    "\n",
    "This notebook demonstrates how to encode characters into quantum states using Pennylane and decode them back to retrieve the original word.\n",
    "\n",
    "## Importing Libraries\n",
    "\n",
    "We will begin by importing the necessary libraries: Pennylane and NumPy.\n"
   ]
  },
  {
   "cell_type": "code",
   "execution_count": 1,
   "metadata": {},
   "outputs": [],
   "source": [
    "import pennylane as qml\n",
    "from pennylane import numpy as np\n"
   ]
  },
  {
   "cell_type": "markdown",
   "metadata": {},
   "source": [
    "## Encoding a Character\n",
    "\n",
    "This function encodes a character into a quantum state by converting it to an angle.\n"
   ]
  },
  {
   "cell_type": "code",
   "execution_count": 2,
   "metadata": {},
   "outputs": [],
   "source": [
    "def encode_character(c):\n",
    "    \"\"\"\n",
    "    Encode a character into a quantum state representation.\n",
    "\n",
    "    This function takes a single character and converts it to a corresponding\n",
    "    angle that will be used for rotation in the quantum circuit.\n",
    "\n",
    "    Args:\n",
    "        c (str): A single character (e.g., 'A', 'b').\n",
    "\n",
    "    Returns:\n",
    "        float: An angle in radians, scaled to fit within the range of a qubit state.\n",
    "    \"\"\"\n",
    "    # Calculate the angle based on the ASCII value of the character\n",
    "    angle = ord(c) * (2 * np.pi / 256)\n",
    "    return angle  # Angle will be between 0 and 2π\n"
   ]
  },
  {
   "cell_type": "markdown",
   "metadata": {},
   "source": [
    "## Decoding a Character\n",
    "\n",
    "This function decodes an angle back into a character from its quantum state representation.\n"
   ]
  },
  {
   "cell_type": "code",
   "execution_count": 3,
   "metadata": {},
   "outputs": [],
   "source": [
    "def decode_character(angle):\n",
    "    \"\"\"\n",
    "    Decode an angle back into a character from its quantum state representation.\n",
    "\n",
    "    This function converts the angle obtained from the quantum measurement back\n",
    "    into a character.\n",
    "\n",
    "    Args:\n",
    "        angle (float): An angle in radians representing a character's state.\n",
    "\n",
    "    Returns:\n",
    "        str: The decoded character or '?' if the angle does not correspond to a valid ASCII character.\n",
    "    \"\"\"\n",
    "    # Convert the angle back to a character code\n",
    "    char_code = int(np.round(angle * (256 / (2 * np.pi))))\n",
    "    return chr(char_code) if 0 <= char_code < 256 else '?'  # Ensure character is in valid range\n"
   ]
  },
  {
   "cell_type": "markdown",
   "metadata": {},
   "source": [
    "## Creating an Embedding Circuit\n",
    "\n",
    "This function creates a quantum circuit that encodes a word into qubit states.\n"
   ]
  },
  {
   "cell_type": "code",
   "execution_count": 4,
   "metadata": {},
   "outputs": [],
   "source": [
    "def create_embedding_circuit(word):\n",
    "    \"\"\"\n",
    "    Create a quantum circuit that encodes a word into qubit states.\n",
    "\n",
    "    This function sets up a quantum circuit with one qubit for each character in the input word.\n",
    "    Each character is encoded by applying an RY rotation to its corresponding qubit.\n",
    "\n",
    "    Args:\n",
    "        word (str): The input word to be encoded, consisting of characters.\n",
    "\n",
    "    Returns:\n",
    "        Callable: A quantum circuit that, when called, will return the expectation values \n",
    "        of each qubit's state after encoding the input word.\n",
    "    \"\"\"\n",
    "    # Determine the number of qubits needed (one for each character)\n",
    "    n_qubits = len(word)\n",
    "    \n",
    "    # Initialize a quantum device with 'n_qubits' number of qubits\n",
    "    dev = qml.device(\"default.qubit\", wires=n_qubits)\n",
    "\n",
    "    @qml.qnode(dev)  # Define a quantum node for executing the circuit\n",
    "    def circuit():\n",
    "        # Iterate over each character in the word\n",
    "        for i, char in enumerate(word):\n",
    "            angle = encode_character(char)  # Get the angle for the character\n",
    "            qml.RY(angle, wires=i)  # Apply the rotation to the corresponding qubit\n",
    "        # Return the expectation values of the Pauli-Z observable for each qubit\n",
    "        return [qml.expval(qml.PauliZ(wires=i)) for i in range(n_qubits)]\n",
    "\n",
    "    return circuit  # Return the defined quantum circuit\n"
   ]
  },
  {
   "cell_type": "markdown",
   "metadata": {},
   "source": [
    "## Embedding a Word\n",
    "\n",
    "This function encodes a word into a quantum circuit and decodes it back to retrieve the original word.\n"
   ]
  },
  {
   "cell_type": "code",
   "execution_count": 5,
   "metadata": {},
   "outputs": [],
   "source": [
    "def embed_word(word):\n",
    "    \"\"\"\n",
    "    Encode a word into a quantum circuit and then decode it back to retrieve the original word.\n",
    "\n",
    "    This function integrates the entire workflow: encoding the word into qubit states using\n",
    "    a quantum circuit, measuring the qubits, and then decoding the resulting states back\n",
    "    into characters.\n",
    "\n",
    "    Args:\n",
    "        word (str): The input word to be encoded.\n",
    "\n",
    "    Returns:\n",
    "        str: The retrieved word after encoding and decoding process.\n",
    "    \"\"\"\n",
    "    embedding_circuit = create_embedding_circuit(word)  # Create the embedding circuit\n",
    "    measured_states = embedding_circuit()  # Execute the circuit to get measured states\n",
    "\n",
    "    # Decode the measured states back into a word\n",
    "    decoded_word = ''.join(\n",
    "        decode_character(np.arccos(measured_states[i])) for i in range(len(measured_states))\n",
    "    )\n",
    "    \n",
    "    return decoded_word  # Return the reconstructed word\n"
   ]
  },
  {
   "cell_type": "markdown",
   "metadata": {},
   "source": [
    "## Example Usage\n",
    "\n",
    "Test the implementation with an example word.\n"
   ]
  },
  {
   "cell_type": "code",
   "execution_count": 7,
   "metadata": {},
   "outputs": [
    {
     "name": "stdout",
     "output_type": "stream",
     "text": [
      "Original word: Bat\n",
      "Retrieved word: Bat\n"
     ]
    }
   ],
   "source": [
    "word = \"Bat\"  # Input word to encode\n",
    "retrieved_word = embed_word(word)  # Encode and decode the word\n",
    "print(f\"Original word: {word}\")  # Display the original word\n",
    "print(f\"Retrieved word: {retrieved_word}\")  # Display the reconstructed word\n"
   ]
  }
 ],
 "metadata": {
  "kernelspec": {
   "display_name": "Python 3 (ipykernel)",
   "language": "python",
   "name": "python3"
  },
  "language_info": {
   "codemirror_mode": {
    "name": "ipython",
    "version": 3
   },
   "file_extension": ".py",
   "mimetype": "text/x-python",
   "name": "python",
   "nbconvert_exporter": "python",
   "pygments_lexer": "ipython3",
   "version": "3.12.4"
  }
 },
 "nbformat": 4,
 "nbformat_minor": 2
}
